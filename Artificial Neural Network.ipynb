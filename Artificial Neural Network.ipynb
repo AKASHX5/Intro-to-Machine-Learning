{
 "cells": [
  {
   "cell_type": "code",
   "execution_count": 1,
   "metadata": {
    "collapsed": false
   },
   "outputs": [
    {
     "ename": "ImportError",
     "evalue": "No module named neurolab",
     "output_type": "error",
     "traceback": [
      "\u001b[0;31m---------------------------------------------------------------------------\u001b[0m",
      "\u001b[0;31mImportError\u001b[0m                               Traceback (most recent call last)",
      "\u001b[0;32m<ipython-input-1-91f48a90ec94>\u001b[0m in \u001b[0;36m<module>\u001b[0;34m()\u001b[0m\n\u001b[1;32m      1\u001b[0m \u001b[0;32mimport\u001b[0m \u001b[0mnumpy\u001b[0m \u001b[0;32mas\u001b[0m \u001b[0mnp\u001b[0m\u001b[0;34m\u001b[0m\u001b[0m\n\u001b[1;32m      2\u001b[0m \u001b[0;32mimport\u001b[0m \u001b[0mmatplotlib\u001b[0m\u001b[0;34m.\u001b[0m\u001b[0mpyplot\u001b[0m \u001b[0;32mas\u001b[0m \u001b[0mplt\u001b[0m\u001b[0;34m\u001b[0m\u001b[0m\n\u001b[0;32m----> 3\u001b[0;31m \u001b[0;32mimport\u001b[0m \u001b[0mneurolab\u001b[0m\u001b[0;34m\u001b[0m\u001b[0m\n\u001b[0m\u001b[1;32m      4\u001b[0m \u001b[0mget_ipython\u001b[0m\u001b[0;34m(\u001b[0m\u001b[0;34m)\u001b[0m\u001b[0;34m.\u001b[0m\u001b[0mmagic\u001b[0m\u001b[0;34m(\u001b[0m\u001b[0;34mu'matplotlib inline'\u001b[0m\u001b[0;34m)\u001b[0m\u001b[0;34m\u001b[0m\u001b[0m\n",
      "\u001b[0;31mImportError\u001b[0m: No module named neurolab"
     ]
    }
   ],
   "source": [
    "import numpy as np\n",
    "import matplotlib.pyplot as plt\n",
    "import neurolab\n",
    "%matplotlib inline\n"
   ]
  },
  {
   "cell_type": "code",
   "execution_count": 2,
   "metadata": {
    "collapsed": false
   },
   "outputs": [
    {
     "name": "stdout",
     "output_type": "stream",
     "text": [
      "Enter the %s number: 2\n",
      "Enter the %s number: 4\n",
      "Enter the %s number: 3\n",
      "Enter the %s number: 2\n",
      "Enter the %s number: 3\n",
      "Enter the %s number: 2\n",
      "Enter the %s number: 1\n",
      "Enter the %s number: 4\n",
      "Enter the %s number: 22\n",
      "['2', '4', '3', '2', '3', '2', '1', '4', '22']\n"
     ]
    }
   ],
   "source": [
    "num = []\n",
    "for i in xrange(1, 10):\n",
    "    num.append(raw_input('Enter the %s number: '))\n",
    "\n",
    "print num"
   ]
  },
  {
   "cell_type": "code",
   "execution_count": null,
   "metadata": {
    "collapsed": false
   },
   "outputs": [],
   "source": [
    "#TASK1\n",
    "m = int(input('number of Cows, m = '))\n",
    "n = 7\n",
    "matrix = []; columns = []\n",
    "# initialize the number of rows\n",
    "for i in range(0,m):\n",
    "  matrix += [0]\n",
    "# initialize the number of columns\n",
    "for j in range (0,n):\n",
    "  columns += [0]\n",
    "# initialize the matrix\n",
    "for i in range (0,m):\n",
    "  matrix[i] = columns\n",
    "for i in range (0,m):\n",
    "  for j in range (0,n):\n",
    "    print ('entry the value of the Yield: ',i+1,' Day: ',j+1)\n",
    "    matrix[i][j] = int(input())\n",
    "print (matrix)\n",
    "#Task 2\n",
    "for i in range(0,m):\n",
    "    for j in range(0,n):\n",
    "        weekly_total=matrix[i]+matrix[j]\n",
    "print weekly_total\n",
    "\n",
    "#Task 3\n",
    "\n",
    "\n",
    "#Sorting in accending order\n",
    "for y in range(len(acc)-1,0,-1):\n",
    "    for i in range(y):\n",
    "        if alist[i]>alist[i+1]:\n",
    "            temp = alist[i]\n",
    "            alist[i] = alist[i+1]\n",
    "            alist[i+1] = temp\n",
    "\n",
    "\n",
    "print(alist)\n",
    " \n",
    "# searching \n",
    "\n",
    "While len alist !=1:\n",
    "    if:\n",
    "        alist[i]>alist[i+1]\n",
    "        alist[i]==alist[i+1]\n",
    "    else:\n",
    "        alist[i] +=1\n",
    "        \n",
    "print alist[i]\n",
    "\n",
    "While len alist !=1:\n",
    "    if:\n",
    "        alist[i]<alist[i+1]\n",
    "        alist[i]==alist[i+1]\n",
    "    else:\n",
    "        alist[i] +=1\n",
    "        \n",
    "print alist[i]\n",
    "    \n",
    "\n"
   ]
  },
  {
   "cell_type": "code",
   "execution_count": null,
   "metadata": {
    "collapsed": true
   },
   "outputs": [],
   "source": []
  },
  {
   "cell_type": "code",
   "execution_count": null,
   "metadata": {
    "collapsed": true
   },
   "outputs": [],
   "source": []
  }
 ],
 "metadata": {
  "anaconda-cloud": {},
  "kernelspec": {
   "display_name": "Python [conda root]",
   "language": "python",
   "name": "conda-root-py"
  },
  "language_info": {
   "codemirror_mode": {
    "name": "ipython",
    "version": 2
   },
   "file_extension": ".py",
   "mimetype": "text/x-python",
   "name": "python",
   "nbconvert_exporter": "python",
   "pygments_lexer": "ipython2",
   "version": "2.7.12"
  }
 },
 "nbformat": 4,
 "nbformat_minor": 2
}
