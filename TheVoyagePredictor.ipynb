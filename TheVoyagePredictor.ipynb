{
 "cells": [
  {
   "cell_type": "code",
   "execution_count": 2,
   "metadata": {
    "collapsed": true
   },
   "outputs": [],
   "source": [
    "import numpy as np\n",
    "from math import sqrt\n",
    "import warnings\n",
    "import pandas as pd\n",
    "import random\n",
    "from sklearn import preprocessing ,cross_validation,neighbors\n",
    "from sklearn.preprocessing import Imputer\n",
    "import pickle \n",
    "\n"
   ]
  },
  {
   "cell_type": "code",
   "execution_count": 3,
   "metadata": {
    "collapsed": true
   },
   "outputs": [],
   "source": [
    "datafile=\"/Users/akash/Documents/dataset/User-info.xlsx\"\n",
    "User_data=pd.read_excel(datafile,sep=',',header=None,names=['UserId','HotelId','HotelName','Purpose','Type','Budget','Transport','Rating','Site','Hotel_Catagory'])\n",
    "datay=User_data.drop(User_data.index[0])"
   ]
  },
  {
   "cell_type": "code",
   "execution_count": 4,
   "metadata": {
    "collapsed": false
   },
   "outputs": [
    {
     "data": {
      "text/html": [
       "<div>\n",
       "<table border=\"1\" class=\"dataframe\">\n",
       "  <thead>\n",
       "    <tr style=\"text-align: right;\">\n",
       "      <th></th>\n",
       "      <th>UserId</th>\n",
       "      <th>HotelId</th>\n",
       "      <th>HotelName</th>\n",
       "      <th>Purpose</th>\n",
       "      <th>Type</th>\n",
       "      <th>Budget</th>\n",
       "      <th>Transport</th>\n",
       "      <th>Rating</th>\n",
       "      <th>Site</th>\n",
       "      <th>Hotel_Catagory</th>\n",
       "      <th>Num_Type</th>\n",
       "      <th>Num_Transport</th>\n",
       "      <th>Num_Purpose</th>\n",
       "      <th>Num_Site</th>\n",
       "      <th>Num_Catagory</th>\n",
       "    </tr>\n",
       "  </thead>\n",
       "  <tbody>\n",
       "    <tr>\n",
       "      <th>1</th>\n",
       "      <td>1</td>\n",
       "      <td>A2</td>\n",
       "      <td>Hotel Cox's Today</td>\n",
       "      <td>Holiday</td>\n",
       "      <td>Adventurous</td>\n",
       "      <td>10000</td>\n",
       "      <td>Bus</td>\n",
       "      <td>4</td>\n",
       "      <td>BOTH</td>\n",
       "      <td>A</td>\n",
       "      <td>2.0</td>\n",
       "      <td>1.0</td>\n",
       "      <td>1</td>\n",
       "      <td>3.0</td>\n",
       "      <td>5</td>\n",
       "    </tr>\n",
       "  </tbody>\n",
       "</table>\n",
       "</div>"
      ],
      "text/plain": [
       "  UserId HotelId          HotelName  Purpose         Type Budget Transport  \\\n",
       "1      1      A2  Hotel Cox's Today  Holiday  Adventurous  10000       Bus   \n",
       "\n",
       "  Rating  Site Hotel_Catagory  Num_Type  Num_Transport  Num_Purpose  Num_Site  \\\n",
       "1      4  BOTH              A       2.0            1.0            1       3.0   \n",
       "\n",
       "   Num_Catagory  \n",
       "1             5  "
      ]
     },
     "execution_count": 4,
     "metadata": {},
     "output_type": "execute_result"
    }
   ],
   "source": [
    "###Change to numercal value \n",
    "\n",
    "def Num_Purpose(x):\n",
    "    if x==\"Holiday\":\n",
    "        return 1\n",
    "    elif x==\"Adventure\":\n",
    "        return 2\n",
    "    elif x==\"Honeymoon\":\n",
    "        return 3\n",
    "    elif x==\"Business\":\n",
    "        return 4\n",
    "    \n",
    "def Num_Type(x):\n",
    "    if x==\"Relax\":\n",
    "        return 1\n",
    "    elif x==\"Adventurous\":\n",
    "        return 2\n",
    "    elif x==\"Scenery\":\n",
    "        return 3\n",
    "    elif x==\"Business\":\n",
    "        return 4\n",
    "    \n",
    "    \n",
    "def Num_Transport(x):\n",
    "    if x==\"Bus\":\n",
    "        return 1\n",
    "    elif x==\"Airplane\":\n",
    "        return 2\n",
    "    elif x==\"PCar\":\n",
    "        return 3\n",
    "    elif x==\"Train\":\n",
    "        return 4\n",
    "    \n",
    "def Num_Site(x):\n",
    "    if x==\"NEAR\":\n",
    "        return 1\n",
    "    elif x==\"FAR\":\n",
    "        return 2\n",
    "    elif x==\"BOTH\":\n",
    "        return 3\n",
    "    \n",
    "\n",
    "def Num_Hotel(x):\n",
    "    \n",
    "    if x==\"A\":\n",
    "        \n",
    "        return 5\n",
    "    elif x==\"B\":\n",
    "        return 4\n",
    "    elif x==\"C\":\n",
    "        return 3\n",
    "    elif x==\"D\":\n",
    "        return 2\n",
    "        \n",
    "    \n",
    "datay['Num_Type']=datay['Type'].apply(Num_Type)\n",
    "datay['Num_Transport']=datay['Transport'].apply(Num_Transport)\n",
    "datay['Num_Purpose']=datay['Purpose'].apply(Num_Purpose)\n",
    "datay['Num_Site']=datay['Site'].apply(Num_Site)\n",
    "datay['Num_Catagory']=datay['Hotel_Catagory'].apply(Num_Hotel)\n",
    "datay.head(1)\n",
    "        "
   ]
  },
  {
   "cell_type": "code",
   "execution_count": 5,
   "metadata": {
    "collapsed": false
   },
   "outputs": [
    {
     "name": "stdout",
     "output_type": "stream",
     "text": [
      "Please enter you Budget\n",
      ": 30000\n",
      "Please mention the type of traveller you are\n",
      ": relax\n",
      "Please mention the Purpose of your visit\n",
      ": holiday\n",
      "Please mention for how many days you are planning to stay\n",
      ": 2\n",
      "Please mention how many people you are planning to travel with\n",
      ": 2\n",
      "7500\n",
      "<type 'list'>\n"
     ]
    }
   ],
   "source": [
    "Budget = int(input(\"Please enter you Budget\\n: \"))\n",
    "Type = raw_input(\"Please mention the type of traveller you are\\n: \")\n",
    "Purpose= raw_input (\"Please mention the Purpose of your visit\\n: \")\n",
    "Duration=int(input(\"Please mention for how many days you are planning to stay\\n: \"))\n",
    "Num_of_People= int(input(\"Please mention how many people you are planning to travel with\\n: \"))\n",
    "\n",
    "\n",
    "Cost_Per_Day=int(Budget/(Num_of_People*Duration))\n",
    "\n",
    "print Cost_Per_Day\n",
    "\n",
    "example1=[]\n",
    "example1.append(str(Budget))\n",
    "example1.append(str(Type))\n",
    "example1.append(str(Purpose))\n",
    "\n",
    "print type(example1)"
   ]
  },
  {
   "cell_type": "code",
   "execution_count": 6,
   "metadata": {
    "collapsed": false
   },
   "outputs": [
    {
     "name": "stdout",
     "output_type": "stream",
     "text": [
      "['30000' '3' '1']\n"
     ]
    }
   ],
   "source": [
    "if example1[1]=='scenary':\n",
    "    example1[1]= '4'\n",
    "if example1[1]=='relax':\n",
    "    example1[1]= '3'\n",
    "if example1[1]=='business':\n",
    "    example1[1]= '2'\n",
    "if example1[1]=='adventurous':\n",
    "    example1[1]= '1' \n",
    "\n",
    "    \n",
    "if example1[2]=='business':\n",
    "    example1[2]= '4'\n",
    "if example1[2]=='honeymoon':\n",
    "    example1[2]= '3'\n",
    "if example1[2]=='adventure':\n",
    "    example1[2]= '2'\n",
    "if example1[2]=='holiday':\n",
    "    example1[2]= '1'  \n",
    "\n",
    "\n",
    "\n",
    "example1=np.asarray(example1)\n",
    "\n",
    "print example1\n",
    "\n"
   ]
  },
  {
   "cell_type": "code",
   "execution_count": 7,
   "metadata": {
    "collapsed": false
   },
   "outputs": [
    {
     "data": {
      "text/html": [
       "<div>\n",
       "<table border=\"1\" class=\"dataframe\">\n",
       "  <thead>\n",
       "    <tr style=\"text-align: right;\">\n",
       "      <th></th>\n",
       "      <th>0</th>\n",
       "      <th>1</th>\n",
       "      <th>2</th>\n",
       "      <th>3</th>\n",
       "    </tr>\n",
       "  </thead>\n",
       "  <tbody>\n",
       "    <tr>\n",
       "      <th>0</th>\n",
       "      <td>10000.0</td>\n",
       "      <td>2.0</td>\n",
       "      <td>1.0</td>\n",
       "      <td>5.0</td>\n",
       "    </tr>\n",
       "    <tr>\n",
       "      <th>1</th>\n",
       "      <td>7000.0</td>\n",
       "      <td>1.0</td>\n",
       "      <td>1.0</td>\n",
       "      <td>4.0</td>\n",
       "    </tr>\n",
       "    <tr>\n",
       "      <th>2</th>\n",
       "      <td>10000.0</td>\n",
       "      <td>2.0</td>\n",
       "      <td>2.0</td>\n",
       "      <td>3.0</td>\n",
       "    </tr>\n",
       "    <tr>\n",
       "      <th>3</th>\n",
       "      <td>15000.0</td>\n",
       "      <td>3.0</td>\n",
       "      <td>1.0</td>\n",
       "      <td>4.0</td>\n",
       "    </tr>\n",
       "    <tr>\n",
       "      <th>4</th>\n",
       "      <td>10000.0</td>\n",
       "      <td>3.0</td>\n",
       "      <td>1.0</td>\n",
       "      <td>5.0</td>\n",
       "    </tr>\n",
       "  </tbody>\n",
       "</table>\n",
       "</div>"
      ],
      "text/plain": [
       "         0    1    2    3\n",
       "0  10000.0  2.0  1.0  5.0\n",
       "1   7000.0  1.0  1.0  4.0\n",
       "2  10000.0  2.0  2.0  3.0\n",
       "3  15000.0  3.0  1.0  4.0\n",
       "4  10000.0  3.0  1.0  5.0"
      ]
     },
     "execution_count": 7,
     "metadata": {},
     "output_type": "execute_result"
    }
   ],
   "source": [
    "H_data=datay.drop(['UserId','HotelId','HotelName','Purpose','Type','Site','Hotel_Catagory','Num_Transport','Num_Site'],axis=1)\n",
    "H_data=H_data.drop(['Transport','Rating'],axis=1)\n",
    "\n",
    "imr=Imputer(missing_values='NaN',strategy=\"most_frequent\",axis=0)\n",
    "imr=imr.fit(H_data)\n",
    "H_data=imr.transform(H_data.values)\n",
    "\n",
    "H_data=pd.DataFrame(H_data)\n",
    "H_data.head()\n",
    "\n"
   ]
  },
  {
   "cell_type": "code",
   "execution_count": 8,
   "metadata": {
    "collapsed": false
   },
   "outputs": [
    {
     "name": "stdout",
     "output_type": "stream",
     "text": [
      "0.444444444444\n",
      "[2.0]\n"
     ]
    },
    {
     "name": "stderr",
     "output_type": "stream",
     "text": [
      "//anaconda/lib/python2.7/site-packages/sklearn/utils/validation.py:386: DeprecationWarning: Passing 1d arrays as data is deprecated in 0.17 and willraise ValueError in 0.19. Reshape your data either using X.reshape(-1, 1) if your data has a single feature or X.reshape(1, -1) if it contains a single sample.\n",
      "  DeprecationWarning)\n"
     ]
    }
   ],
   "source": [
    "X=np.array(H_data.drop([3],1))\n",
    "y=np.array(H_data[3])\n",
    "X_train,X_test,y_train,y_test=cross_validation.train_test_split(X,y,test_size=0.1)\n",
    "Hclf=neighbors.KNeighborsClassifier()\n",
    "Hclf.fit(X_train,y_train)\n",
    "accuracy=Hclf.score(X_test,y_test)\n",
    "print(accuracy)\n",
    "Hotel_prediction=Hclf.predict(example1)\n",
    "Hotel_prediction=Hotel_prediction.tolist()\n",
    "print Hotel_prediction"
   ]
  },
  {
   "cell_type": "code",
   "execution_count": 16,
   "metadata": {
    "collapsed": false
   },
   "outputs": [
    {
     "data": {
      "text/plain": [
       "0     2.0\n",
       "1     1.0\n",
       "2     2.0\n",
       "3     3.0\n",
       "4     3.0\n",
       "5     3.0\n",
       "6     1.0\n",
       "7     1.0\n",
       "8     1.0\n",
       "9     2.0\n",
       "10    1.0\n",
       "11    3.0\n",
       "12    1.0\n",
       "13    1.0\n",
       "14    2.0\n",
       "15    1.0\n",
       "16    2.0\n",
       "17    1.0\n",
       "18    3.0\n",
       "19    1.0\n",
       "20    3.0\n",
       "21    2.0\n",
       "22    2.0\n",
       "23    3.0\n",
       "24    2.0\n",
       "25    3.0\n",
       "26    3.0\n",
       "27    3.0\n",
       "28    2.0\n",
       "29    1.0\n",
       "     ... \n",
       "56    1.0\n",
       "57    1.0\n",
       "58    1.0\n",
       "59    1.0\n",
       "60    2.0\n",
       "61    3.0\n",
       "62    3.0\n",
       "63    3.0\n",
       "64    3.0\n",
       "65    1.0\n",
       "66    2.0\n",
       "67    1.0\n",
       "68    3.0\n",
       "69    3.0\n",
       "70    2.0\n",
       "71    2.0\n",
       "72    2.0\n",
       "73    2.0\n",
       "74    3.0\n",
       "75    3.0\n",
       "76    3.0\n",
       "77    2.0\n",
       "78    2.0\n",
       "79    2.0\n",
       "80    3.0\n",
       "81    1.0\n",
       "82    3.0\n",
       "83    3.0\n",
       "84    1.0\n",
       "85    1.0\n",
       "Name: 1, dtype: float64"
      ]
     },
     "execution_count": 16,
     "metadata": {},
     "output_type": "execute_result"
    }
   ],
   "source": [
    "Site_Data=datay.drop(['HotelId','HotelName','Rating','Transport','Site'],axis=1)\n",
    "Site_Data=Site_Data[['Budget','Num_Type','Num_Purpose','Num_Site']]\n",
    "imr=Imputer(missing_values='NaN',strategy=\"most_frequent\",axis=0)\n",
    "imr=imr.fit(Site_Data)\n",
    "Site_Data=imr.transform(Site_Data.values)\n",
    "Site_Data=pd.DataFrame(Site_Data)\n",
    "# Site_Data.head()\n",
    "Site_Data[1]"
   ]
  },
  {
   "cell_type": "code",
   "execution_count": 33,
   "metadata": {
    "collapsed": false
   },
   "outputs": [
    {
     "data": {
      "text/html": [
       "<div>\n",
       "<table border=\"1\" class=\"dataframe\">\n",
       "  <thead>\n",
       "    <tr style=\"text-align: right;\">\n",
       "      <th></th>\n",
       "      <th>0</th>\n",
       "      <th>1</th>\n",
       "      <th>2</th>\n",
       "      <th>3</th>\n",
       "    </tr>\n",
       "  </thead>\n",
       "  <tbody>\n",
       "    <tr>\n",
       "      <th>0</th>\n",
       "      <td>10000.0</td>\n",
       "      <td>2.0</td>\n",
       "      <td>1.0</td>\n",
       "      <td>3.0</td>\n",
       "    </tr>\n",
       "    <tr>\n",
       "      <th>1</th>\n",
       "      <td>7000.0</td>\n",
       "      <td>1.0</td>\n",
       "      <td>1.0</td>\n",
       "      <td>1.0</td>\n",
       "    </tr>\n",
       "    <tr>\n",
       "      <th>2</th>\n",
       "      <td>10000.0</td>\n",
       "      <td>2.0</td>\n",
       "      <td>2.0</td>\n",
       "      <td>3.0</td>\n",
       "    </tr>\n",
       "    <tr>\n",
       "      <th>3</th>\n",
       "      <td>15000.0</td>\n",
       "      <td>3.0</td>\n",
       "      <td>1.0</td>\n",
       "      <td>3.0</td>\n",
       "    </tr>\n",
       "    <tr>\n",
       "      <th>4</th>\n",
       "      <td>10000.0</td>\n",
       "      <td>3.0</td>\n",
       "      <td>1.0</td>\n",
       "      <td>1.0</td>\n",
       "    </tr>\n",
       "  </tbody>\n",
       "</table>\n",
       "</div>"
      ],
      "text/plain": [
       "         0    1    2    3\n",
       "0  10000.0  2.0  1.0  3.0\n",
       "1   7000.0  1.0  1.0  1.0\n",
       "2  10000.0  2.0  2.0  3.0\n",
       "3  15000.0  3.0  1.0  3.0\n",
       "4  10000.0  3.0  1.0  1.0"
      ]
     },
     "execution_count": 33,
     "metadata": {},
     "output_type": "execute_result"
    }
   ],
   "source": [
    "Site_Data=datay.drop(['HotelId','HotelName','Rating','Transport','Site'],axis=1)\n",
    "Site_Data=Site_Data[['Budget','Num_Type','Num_Purpose','Num_Site']]\n",
    "imr=Imputer(missing_values='NaN',strategy=\"most_frequent\",axis=0)\n",
    "imr=imr.fit(Site_Data)\n",
    "Site_Data=imr.transform(Site_Data.values)\n",
    "Site_Data=pd.DataFrame(Site_Data)\n",
    "Site_Data.head()"
   ]
  },
  {
   "cell_type": "code",
   "execution_count": 41,
   "metadata": {
    "collapsed": false
   },
   "outputs": [
    {
     "name": "stdout",
     "output_type": "stream",
     "text": [
      "0.555555555556\n",
      "[3.0]\n"
     ]
    },
    {
     "name": "stderr",
     "output_type": "stream",
     "text": [
      "//anaconda/lib/python2.7/site-packages/sklearn/utils/validation.py:386: DeprecationWarning: Passing 1d arrays as data is deprecated in 0.17 and willraise ValueError in 0.19. Reshape your data either using X.reshape(-1, 1) if your data has a single feature or X.reshape(1, -1) if it contains a single sample.\n",
      "  DeprecationWarning)\n"
     ]
    }
   ],
   "source": [
    "###Predict the site \n",
    "X=np.array(Site_Data.drop([3],1))\n",
    "y=np.array(Site_Data[3])\n",
    "X_train,X_test,y_train,y_test=cross_validation.train_test_split(X,y,test_size=0.1)\n",
    "Sclf=neighbors.KNeighborsClassifier()\n",
    "Sclf.fit(X_train,y_train)\n",
    "accuracy=Sclf.score(X_test,y_test)\n",
    "print(accuracy)\n",
    "\n",
    "Site_prediction=Sclf.predict(example1)  \n",
    "Site_prediction=Site_prediction.tolist()\n",
    "print Site_prediction"
   ]
  },
  {
   "cell_type": "code",
   "execution_count": 42,
   "metadata": {
    "collapsed": false
   },
   "outputs": [
    {
     "name": "stdout",
     "output_type": "stream",
     "text": [
      "0.555555555556\n",
      "[1.0]\n"
     ]
    },
    {
     "name": "stderr",
     "output_type": "stream",
     "text": [
      "//anaconda/lib/python2.7/site-packages/sklearn/utils/validation.py:386: DeprecationWarning: Passing 1d arrays as data is deprecated in 0.17 and willraise ValueError in 0.19. Reshape your data either using X.reshape(-1, 1) if your data has a single feature or X.reshape(1, -1) if it contains a single sample.\n",
      "  DeprecationWarning)\n"
     ]
    }
   ],
   "source": [
    "Transport_Data=datay.drop(['HotelId','HotelName','Rating','Site','Site'],axis=1)\n",
    "Transport_Data.head(1)\n",
    "Transport_Data=Transport_Data[['Budget','Num_Type','Num_Purpose','Num_Transport']]\n",
    "\n",
    "imr=Imputer(missing_values='NaN',strategy=\"most_frequent\",axis=0)\n",
    "imr=imr.fit(Transport_Data)\n",
    "Transport_Data=imr.transform(Transport_Data)\n",
    "Transport_Data=pd.DataFrame(Transport_Data)\n",
    "Transport_Data.head()\n",
    "\n",
    "\n",
    "X=np.array(Transport_Data.drop([3],1))\n",
    "y=np.array(Transport_Data[3])\n",
    "\n",
    "X_train,X_test,y_train,y_test=cross_validation.train_test_split(X,y,test_size=0.1)\n",
    "\n",
    "Tclf=neighbors.KNeighborsClassifier()\n",
    "Tclf.fit(X_train,y_train)\n",
    "\n",
    "accuracy=Tclf.score(X_test,y_test)\n",
    "print(accuracy)\n",
    "Transport_prediction=Tclf.predict(example1)\n",
    "    \n",
    "\n",
    "\n",
    "\n",
    "Transport_prediction=Transport_prediction.tolist()\n",
    "\n",
    "\n",
    "print Transport_prediction\n",
    "\n"
   ]
  },
  {
   "cell_type": "code",
   "execution_count": 43,
   "metadata": {
    "collapsed": false
   },
   "outputs": [
    {
     "name": "stdout",
     "output_type": "stream",
     "text": [
      "[['Two Star'], ['Both'], ['Bus']]\n"
     ]
    }
   ],
   "source": [
    "Recommended_Package=[]\n",
    "Recommended_Package.append(Hotel_prediction)\n",
    "Recommended_Package.append(Site_prediction)\n",
    "Recommended_Package.append(Transport_prediction)\n",
    "\n",
    "if Recommended_Package[0][0]==5:\n",
    "    Recommended_Package[0][0]=\"Five Star\"\n",
    "if Recommended_Package[0][0]==4:\n",
    "    Recommended_Package[0][0]=\"Four Star\"\n",
    "if Recommended_Package[0][0]==3:\n",
    "    Recommended_Package[0][0]=\"Three Star\"\n",
    "if Recommended_Package[0][0]==2:\n",
    "    Recommended_Package[0][0]=\"Two Star\"\n",
    "\n",
    "    \n",
    "if Recommended_Package[1][0]==1:\n",
    "    Recommended_Package[1][0]=\"Near\"\n",
    "if Recommended_Package[1][0]==2:\n",
    "    Recommended_Package[1][0]=\"Far\"\n",
    "if Recommended_Package[1][0]==3:\n",
    "    Recommended_Package[1][0]=\"Both\"\n",
    "\n",
    "    \n",
    "if Recommended_Package[2][0]==1:\n",
    "    Recommended_Package[2][0]= \"Bus\"\n",
    "if Recommended_Package[2][0]==2:\n",
    "    Recommended_Package[2][0]= \"Airplane\"\n",
    "if Recommended_Package[2][0]==3:\n",
    "    Recommended_Package[2][0]= \"Car\"\n",
    "if Recommended_Package[2][0]==4:\n",
    "    Recommended_Package[2][0]= \"Train\"\n",
    "\n",
    "\n",
    "print Recommended_Package"
   ]
  },
  {
   "cell_type": "code",
   "execution_count": 44,
   "metadata": {
    "collapsed": true
   },
   "outputs": [],
   "source": [
    "###### Model Serialisation Marshalling \n",
    "pickle.dump(Hclf,open('Hotel_Recommendation.pkl','wb'))\n",
    "pickle.dump(Tclf,open('Transport_Recommendation.pkl','wb'))\n",
    "pickle.dump(Sclf,open('Site_Recommendation.pkl','wb'))\n"
   ]
  },
  {
   "cell_type": "code",
   "execution_count": 48,
   "metadata": {
    "collapsed": true
   },
   "outputs": [],
   "source": [
    "HPackage=pickle.load(open('Hotel_Recommendation.pkl','rb'))\n",
    "TPackage=pickle.load(open('Transport_Recommendation.pkl','rb'))\n",
    "SPackage=pickle.load(open('Site_Recommendation.pkl','rb'))"
   ]
  },
  {
   "cell_type": "code",
   "execution_count": 49,
   "metadata": {
    "collapsed": false
   },
   "outputs": [
    {
     "data": {
      "text/plain": [
       "KNeighborsClassifier(algorithm='auto', leaf_size=30, metric='minkowski',\n",
       "           metric_params=None, n_jobs=1, n_neighbors=5, p=2,\n",
       "           weights='uniform')"
      ]
     },
     "execution_count": 49,
     "metadata": {},
     "output_type": "execute_result"
    }
   ],
   "source": [
    "HPackage"
   ]
  },
  {
   "cell_type": "code",
   "execution_count": 50,
   "metadata": {
    "collapsed": false
   },
   "outputs": [
    {
     "name": "stderr",
     "output_type": "stream",
     "text": [
      "//anaconda/lib/python2.7/site-packages/sklearn/utils/validation.py:386: DeprecationWarning: Passing 1d arrays as data is deprecated in 0.17 and willraise ValueError in 0.19. Reshape your data either using X.reshape(-1, 1) if your data has a single feature or X.reshape(1, -1) if it contains a single sample.\n",
      "  DeprecationWarning)\n"
     ]
    },
    {
     "data": {
      "text/plain": [
       "array([ 2.])"
      ]
     },
     "execution_count": 50,
     "metadata": {},
     "output_type": "execute_result"
    }
   ],
   "source": [
    "HPackage.predict(example1)"
   ]
  },
  {
   "cell_type": "code",
   "execution_count": 51,
   "metadata": {
    "collapsed": false
   },
   "outputs": [
    {
     "name": "stderr",
     "output_type": "stream",
     "text": [
      "//anaconda/lib/python2.7/site-packages/sklearn/utils/validation.py:386: DeprecationWarning: Passing 1d arrays as data is deprecated in 0.17 and willraise ValueError in 0.19. Reshape your data either using X.reshape(-1, 1) if your data has a single feature or X.reshape(1, -1) if it contains a single sample.\n",
      "  DeprecationWarning)\n"
     ]
    },
    {
     "data": {
      "text/plain": [
       "array([ 1.])"
      ]
     },
     "execution_count": 51,
     "metadata": {},
     "output_type": "execute_result"
    }
   ],
   "source": [
    "TPackage.predict(example1)"
   ]
  },
  {
   "cell_type": "code",
   "execution_count": 52,
   "metadata": {
    "collapsed": false
   },
   "outputs": [
    {
     "name": "stderr",
     "output_type": "stream",
     "text": [
      "//anaconda/lib/python2.7/site-packages/sklearn/utils/validation.py:386: DeprecationWarning: Passing 1d arrays as data is deprecated in 0.17 and willraise ValueError in 0.19. Reshape your data either using X.reshape(-1, 1) if your data has a single feature or X.reshape(1, -1) if it contains a single sample.\n",
      "  DeprecationWarning)\n"
     ]
    },
    {
     "data": {
      "text/plain": [
       "array([ 3.])"
      ]
     },
     "execution_count": 52,
     "metadata": {},
     "output_type": "execute_result"
    }
   ],
   "source": [
    "SPackage.predict(example1)"
   ]
  },
  {
   "cell_type": "code",
   "execution_count": null,
   "metadata": {
    "collapsed": true
   },
   "outputs": [],
   "source": []
  }
 ],
 "metadata": {
  "anaconda-cloud": {},
  "kernelspec": {
   "display_name": "Python 3",
   "language": "python",
   "name": "python3"
  },
  "language_info": {
   "codemirror_mode": {
    "name": "ipython",
    "version": 3
   },
   "file_extension": ".py",
   "mimetype": "text/x-python",
   "name": "python",
   "nbconvert_exporter": "python",
   "pygments_lexer": "ipython3",
   "version": "3.6.4"
  }
 },
 "nbformat": 4,
 "nbformat_minor": 2
}
