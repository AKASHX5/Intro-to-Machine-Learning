{
 "cells": [
  {
   "cell_type": "markdown",
   "metadata": {},
   "source": [
    "# AND,OR using neural network\n"
   ]
  },
  {
   "cell_type": "code",
   "execution_count": 3,
   "metadata": {},
   "outputs": [
    {
     "name": "stdout",
     "output_type": "stream",
     "text": [
      "(array([0, 0]), 0)\n",
      "(array([0, 1]), 0)\n",
      "(array([1, 0]), 0)\n",
      "(array([1, 1]), 1)\n"
     ]
    }
   ],
   "source": [
    "import numpy as np\n",
    "class Perceptron:\n",
    "    \n",
    "    def __init__(self, input_length, weights=None):\n",
    "        if weights is None:\n",
    "            self.weights = np.ones(input_length) * 0.5\n",
    "        else:\n",
    "            self.weights = weights\n",
    "        \n",
    "    @staticmethod\n",
    "    def unit_step_function(x):\n",
    "        if x > 0.5:\n",
    "            return 1\n",
    "        return 0\n",
    "        \n",
    "    def __call__(self, in_data):\n",
    "        weighted_input = self.weights * in_data\n",
    "        weighted_sum = weighted_input.sum()\n",
    "        return Perceptron.unit_step_function(weighted_sum)\n",
    "    \n",
    "p = Perceptron(2, np.array([0.5, 0.5]))\n",
    "\n",
    "for x in [np.array([0, 0]), np.array([0, 1]), \n",
    "          np.array([1, 0]), np.array([1, 1])]:\n",
    "    y = p(np.array(x))\n",
    "    print(x, y)"
   ]
  },
  {
   "cell_type": "markdown",
   "metadata": {},
   "source": [
    "## Line Boundary"
   ]
  },
  {
   "cell_type": "code",
   "execution_count": 4,
   "metadata": {},
   "outputs": [
    {
     "name": "stdout",
     "output_type": "stream",
     "text": [
      "[('correct', 90), ('wrong', 10)]\n"
     ]
    }
   ],
   "source": [
    "import numpy as np\n",
    "from collections import Counter\n",
    "\n",
    "class Perceptron:\n",
    "    \n",
    "    def __init__(self, input_length, weights=None):\n",
    "        if weights==None:\n",
    "            self.weights = np.random.random((input_length)) * 2 - 1\n",
    "        self.learning_rate = 0.1\n",
    "        \n",
    "    @staticmethod\n",
    "    def unit_step_function(x):\n",
    "        if x < 0:\n",
    "            return 0\n",
    "        return 1\n",
    "        \n",
    "    def __call__(self, in_data):\n",
    "        weighted_input = self.weights * in_data\n",
    "        weighted_sum = weighted_input.sum()\n",
    "        return Perceptron.unit_step_function(weighted_sum)\n",
    "    \n",
    "    def adjust(self, \n",
    "               target_result, \n",
    "               calculated_result,\n",
    "               in_data):\n",
    "        error = target_result - calculated_result\n",
    "        for i in range(len(in_data)):\n",
    "            correction = error * in_data[i] *self.learning_rate\n",
    "            self.weights[i] += correction \n",
    "\n",
    "     \n",
    "def above_line(point, line_func):\n",
    "    x, y = point\n",
    "    if y > line_func(x):\n",
    "        return 1\n",
    "    else:\n",
    "        return 0\n",
    "  \n",
    "points = np.random.randint(1, 100, (100, 2))\n",
    "p = Perceptron(2)\n",
    "\n",
    "def lin1(x):\n",
    "    return  x + 4\n",
    "\n",
    "for point in points:\n",
    "    p.adjust(above_line(point, lin1), \n",
    "             p(point), \n",
    "             point)\n",
    "\n",
    "evaluation = Counter()\n",
    "for point in points:\n",
    "    if p(point) == above_line(point, lin1):\n",
    "        evaluation[\"correct\"] += 1\n",
    "    else:\n",
    "        evaluation[\"wrong\"] += 1\n",
    "\n",
    "print(evaluation.most_common())"
   ]
  },
  {
   "cell_type": "code",
   "execution_count": null,
   "metadata": {},
   "outputs": [],
   "source": []
  },
  {
   "cell_type": "code",
   "execution_count": 5,
   "metadata": {},
   "outputs": [
    {
     "name": "stdout",
     "output_type": "stream",
     "text": [
      "0.953083739436\n"
     ]
    },
    {
     "data": {
      "image/png": "[encoded data removed]",
      "text/plain": [
       "<matplotlib.figure.Figure at 0x10ba9fd90>"
      ]
     },
     "metadata": {},
     "output_type": "display_data"
    }
   ],
   "source": [
    "%matplotlib inline \n",
    "\n",
    "from matplotlib import pyplot as plt\n",
    "\n",
    "cls = [[], []]\n",
    "for point in points:\n",
    "    cls[above_line(point, lin1)].append(tuple(point))\n",
    "\n",
    "\n",
    "colours = (\"r\", \"b\")\n",
    "for i in range(2):\n",
    "    X, Y = zip(*cls[i])\n",
    "    plt.scatter(X, Y, c=colours[i])\n",
    "    \n",
    "X = np.arange(-3, 120)\n",
    "    \n",
    "m = -p.weights[0] / p.weights[1]\n",
    "print(m)\n",
    "plt.plot(X, m*X, label=\"ANN line\")\n",
    "plt.plot(X, lin1(X), label=\"line1\")\n",
    "plt.legend()\n",
    "plt.show()"
   ]
  },
  {
   "cell_type": "markdown",
   "metadata": {},
   "source": [
    "## XOR with Neural Network\n"
   ]
  },
  {
   "cell_type": "code",
   "execution_count": 6,
   "metadata": {},
   "outputs": [
    {
     "data": {
      "image/png": "[encoded data removed]",
      "text/plain": [
       "<matplotlib.figure.Figure at 0x10ba92390>"
      ]
     },
     "metadata": {},
     "output_type": "display_data"
    }
   ],
   "source": [
    "import numpy as np\n",
    "from matplotlib import pyplot as plt\n",
    "\n",
    "npoints = 50\n",
    "X, Y = [], []\n",
    "# class 0\n",
    "X.append(np.random.uniform(low=-2.5, high=2.3, size=(npoints,)) )\n",
    "Y.append(np.random.uniform(low=-1.7, high=2.8, size=(npoints,)))\n",
    "\n",
    "# class 1\n",
    "X.append(np.random.uniform(low=-7.2, high=-4.4, size=(npoints,)) )\n",
    "Y.append(np.random.uniform(low=3, high=6.5, size=(npoints,)))\n",
    "\n",
    "learnset = []\n",
    "for i in range(2):\n",
    "    # adding points of class i to learnset\n",
    "    points = zip(X[i], Y[i])\n",
    "    for p in points:\n",
    "        learnset.append((p, i))\n",
    "\n",
    "colours = [\"b\", \"r\"]\n",
    "for i in range(2):\n",
    "    plt.scatter(X[i], Y[i], c=colours[i])"
   ]
  },
  {
   "cell_type": "markdown",
   "metadata": {},
   "source": [
    "##  Working with dataset which is linearly inseperable"
   ]
  },
  {
   "cell_type": "code",
   "execution_count": 7,
   "metadata": {},
   "outputs": [
    {
     "name": "stdout",
     "output_type": "stream",
     "text": [
      "[('correct', 62), ('wrong', 38)]\n",
      "0.908715982677\n"
     ]
    },
    {
     "data": {
      "image/png": "[encoded data removed]",
      "text/plain": [
       "<matplotlib.figure.Figure at 0x114ee23d0>"
      ]
     },
     "metadata": {},
     "output_type": "display_data"
    }
   ],
   "source": [
    "import numpy as np\n",
    "from collections import Counter\n",
    "\n",
    "class Perceptron:\n",
    "    \n",
    "    def __init__(self, input_length, weights=None):\n",
    "        if weights==None:\n",
    "            self.weights = np.random.random((input_length)) * 2 - 1\n",
    "        self.learning_rate = 0.1\n",
    "        \n",
    "    @staticmethod\n",
    "    def unit_step_function(x):\n",
    "        if x < 0:\n",
    "            return 0\n",
    "        return 1\n",
    "        \n",
    "    def __call__(self, in_data):\n",
    "        weighted_input = self.weights * in_data\n",
    "        weighted_sum = weighted_input.sum()\n",
    "        return Perceptron.unit_step_function(weighted_sum)\n",
    "    \n",
    "    def adjust(self, \n",
    "               target_result, \n",
    "               calculated_result,\n",
    "               in_data):\n",
    "        error = target_result - calculated_result\n",
    "        for i in range(len(in_data)):\n",
    "            correction = error * in_data[i] *self.learning_rate\n",
    "            self.weights[i] += correction \n",
    "\n",
    "     \n",
    "  \n",
    "p = Perceptron(2)\n",
    "\n",
    "\n",
    "for point, label in learnset:\n",
    "    p.adjust(label, \n",
    "             p(point), \n",
    "             point)\n",
    "\n",
    "evaluation = Counter()\n",
    "for point, label in learnset:\n",
    "    if p(point) == label:\n",
    "        evaluation[\"correct\"] += 1\n",
    "    else:\n",
    "        evaluation[\"wrong\"] += 1\n",
    "\n",
    "print(evaluation.most_common())\n",
    "\n",
    "\n",
    "colours = [\"b\", \"r\"]\n",
    "for i in range(2):\n",
    "    plt.scatter(X[i], Y[i], c=colours[i])\n",
    "\n",
    "XR = np.arange(-8, 4)  \n",
    "m = -p.weights[0] / p.weights[1]\n",
    "print(m)\n",
    "plt.plot(XR, m*XR, label=\"decision boundary\")\n",
    "plt.legend()\n",
    "plt.show()"
   ]
  },
  {
   "cell_type": "markdown",
   "metadata": {},
   "source": [
    "## bias nodes to solve linearly inseperable problem:"
   ]
  },
  {
   "cell_type": "code",
   "execution_count": 8,
   "metadata": {},
   "outputs": [
    {
     "name": "stdout",
     "output_type": "stream",
     "text": [
      "[('correct', 78), ('wrong', 22)]\n",
      "(1.3631499312394095, 1.7900611908469932)\n"
     ]
    },
    {
     "data": {
      "image/png": "[encoded data removed]",
      "text/plain": [
       "<matplotlib.figure.Figure at 0x114e0f690>"
      ]
     },
     "metadata": {},
     "output_type": "display_data"
    }
   ],
   "source": [
    "import numpy as np\n",
    "from collections import Counter\n",
    "\n",
    "class Perceptron:\n",
    "    \n",
    "    def __init__(self, input_length, weights=None):\n",
    "        if weights==None:\n",
    "            # input_length + 1 because bias needs a weight as well\n",
    "            self.weights = np.random.random((input_length + 1)) * 2 - 1\n",
    "        self.learning_rate = 0.05\n",
    "        self.bias = 1\n",
    "    \n",
    "    @staticmethod\n",
    "    def sigmoid_function(x):\n",
    "        res = 1 / (1 + np.power(np.e, -x))\n",
    "        return 0 if res < 0.5 else 1\n",
    "        \n",
    "    def __call__(self, in_data):\n",
    "        weighted_input = self.weights[:-1] * in_data\n",
    "        weighted_sum = weighted_input.sum() + self.bias *self.weights[-1]\n",
    "        return Perceptron.sigmoid_function(weighted_sum)\n",
    "    \n",
    "    def adjust(self, \n",
    "               target_result, \n",
    "               calculated_result,\n",
    "               in_data):\n",
    "        error = target_result - calculated_result\n",
    "        for i in range(len(in_data)):\n",
    "            correction = error * in_data[i]  *self.learning_rate\n",
    "            #print(\"weights: \", self.weights)\n",
    "            #print(target_result, calculated_result, in_data, error, correction)\n",
    "            self.weights[i] += correction \n",
    "        # correct the bias:\n",
    "        correction = error * self.bias * self.learning_rate\n",
    "        self.weights[-1] += correction \n",
    "     \n",
    "  \n",
    "p = Perceptron(2)\n",
    "\n",
    "for point, label in learnset:\n",
    "    p.adjust(label, \n",
    "             p(point), \n",
    "             point)\n",
    "\n",
    "evaluation = Counter()\n",
    "for point, label in learnset:\n",
    "    if p(point) == label:\n",
    "        evaluation[\"correct\"] += 1\n",
    "    else:\n",
    "        evaluation[\"wrong\"] += 1\n",
    "\n",
    "print(evaluation.most_common())\n",
    "\n",
    "\n",
    "colours = [\"b\", \"r\"]\n",
    "for i in range(2):\n",
    "    plt.scatter(X[i], Y[i], c=colours[i])\n",
    "\n",
    "XR = np.arange(-8, 4)  \n",
    "m = -p.weights[0] / p.weights[1]\n",
    "\n",
    "b = -p.weights[-1]/p.weights[1]\n",
    "print(m, b)\n",
    "plt.plot(XR, m*XR + b, label=\"decision boundary\")\n",
    "plt.legend()\n",
    "plt.show()"
   ]
  },
  {
   "cell_type": "code",
   "execution_count": null,
   "metadata": {},
   "outputs": [],
   "source": []
  }
 ],
 "metadata": {
  "kernelspec": {
   "display_name": "Python 2",
   "language": "python",
   "name": "python2"
  },
  "language_info": {
   "codemirror_mode": {
    "name": "ipython",
    "version": 2
   },
   "file_extension": ".py",
   "mimetype": "text/x-python",
   "name": "python",
   "nbconvert_exporter": "python",
   "pygments_lexer": "ipython2",
   "version": "2.7.14"
  }
 },
 "nbformat": 4,
 "nbformat_minor": 2
}
